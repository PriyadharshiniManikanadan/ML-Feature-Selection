{
 "cells": [
  {
   "cell_type": "markdown",
   "id": "542c0e60-62a9-4c7c-90cd-ba2ec2b2b29b",
   "metadata": {},
   "source": [
    "## RFE_Classification - Deployment"
   ]
  },
  {
   "cell_type": "code",
   "execution_count": 4,
   "id": "63dbd156-9b84-415a-bccb-3a97a4dd89b6",
   "metadata": {},
   "outputs": [],
   "source": [
    "import pickle"
   ]
  },
  {
   "cell_type": "code",
   "execution_count": 5,
   "id": "e6a419bc-cae9-42d3-91a6-5fa1a5ab2471",
   "metadata": {},
   "outputs": [],
   "source": [
    "sc = pickle.load(open('sc.pkl','rb'))"
   ]
  },
  {
   "cell_type": "code",
   "execution_count": 6,
   "id": "b9f32d86-2965-4f33-b769-51b47bd84de4",
   "metadata": {},
   "outputs": [],
   "source": [
    "user_input = ([[3, 1, 0, 0, 1]])"
   ]
  },
  {
   "cell_type": "code",
   "execution_count": 7,
   "id": "1fd81a2c-3685-48fa-af3f-681dca62c363",
   "metadata": {},
   "outputs": [
    {
     "data": {
      "text/plain": [
       "array([[ 1.70813011,  1.93937981, -0.47140452, -0.74063735,  0.50587104]])"
      ]
     },
     "execution_count": 7,
     "metadata": {},
     "output_type": "execute_result"
    }
   ],
   "source": [
    "scaled_input = sc.transform(user_input)\n",
    "scaled_input"
   ]
  },
  {
   "cell_type": "code",
   "execution_count": 8,
   "id": "5c0e9ae3-f3f8-4cb8-8419-b273ea5a89b8",
   "metadata": {},
   "outputs": [],
   "source": [
    "loaded_model = pickle.load(open('Finalized_SVMl_Model.sav','rb'))\n",
    "Prediction = loaded_model.predict(scaled_input)"
   ]
  },
  {
   "cell_type": "code",
   "execution_count": 9,
   "id": "1d501699-ac90-4364-89cd-4bc19d1270aa",
   "metadata": {},
   "outputs": [
    {
     "data": {
      "text/plain": [
       "array([1])"
      ]
     },
     "execution_count": 9,
     "metadata": {},
     "output_type": "execute_result"
    }
   ],
   "source": [
    "Prediction"
   ]
  },
  {
   "cell_type": "code",
   "execution_count": null,
   "id": "e8738112-5b8f-43db-916f-a27bc897ecbb",
   "metadata": {},
   "outputs": [],
   "source": []
  }
 ],
 "metadata": {
  "kernelspec": {
   "display_name": "Python 3 (ipykernel)",
   "language": "python",
   "name": "python3"
  },
  "language_info": {
   "codemirror_mode": {
    "name": "ipython",
    "version": 3
   },
   "file_extension": ".py",
   "mimetype": "text/x-python",
   "name": "python",
   "nbconvert_exporter": "python",
   "pygments_lexer": "ipython3",
   "version": "3.12.4"
  }
 },
 "nbformat": 4,
 "nbformat_minor": 5
}
