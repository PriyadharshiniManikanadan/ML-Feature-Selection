{
 "cells": [
  {
   "cell_type": "markdown",
   "id": "c66ae132-de0c-40ce-9351-58b4dd938810",
   "metadata": {},
   "source": [
    "### RFE_Regression - Deployment"
   ]
  },
  {
   "cell_type": "code",
   "execution_count": 1,
   "id": "eddff834-dbb3-45c6-953d-211c309088e8",
   "metadata": {},
   "outputs": [],
   "source": [
    "import pickle"
   ]
  },
  {
   "cell_type": "code",
   "execution_count": 2,
   "id": "5b750930-5ce8-459e-a1bd-823f9ed07312",
   "metadata": {},
   "outputs": [],
   "source": [
    "sc = pickle.load(open('sc.pkl','rb'))"
   ]
  },
  {
   "cell_type": "code",
   "execution_count": 3,
   "id": "cc148fa0-ed1f-459e-b19d-ac5327773f02",
   "metadata": {},
   "outputs": [],
   "source": [
    "user_input = ([[4.0, 148.2, 3.0, 4.6, 12.5, 38.9, 5.5, 0 ]])"
   ]
  },
  {
   "cell_type": "code",
   "execution_count": 4,
   "id": "2651d02c-862c-4681-92f4-85577c4374cc",
   "metadata": {},
   "outputs": [
    {
     "data": {
      "text/plain": [
       "array([[ 2.49783085e+00, -1.41121421e-02, -2.71198115e-02,\n",
       "        -1.35634116e+01,  2.09310622e-02,  6.18725246e-03,\n",
       "         9.74866290e-01, -7.61057107e-01]])"
      ]
     },
     "execution_count": 4,
     "metadata": {},
     "output_type": "execute_result"
    }
   ],
   "source": [
    "scaled_input = sc.transform(user_input)\n",
    "scaled_input"
   ]
  },
  {
   "cell_type": "code",
   "execution_count": 5,
   "id": "183df145-ba49-4127-9d33-99e2bcf0f350",
   "metadata": {},
   "outputs": [],
   "source": [
    "loaded_model = pickle.load(open('Finalized_Random_Model.sav','rb'))\n",
    "Prediction = loaded_model.predict(scaled_input)"
   ]
  },
  {
   "cell_type": "code",
   "execution_count": 7,
   "id": "e060e8d4-7d15-4fa5-954b-b1755fce4d84",
   "metadata": {},
   "outputs": [
    {
     "data": {
      "text/plain": [
       "array([1], dtype=int64)"
      ]
     },
     "execution_count": 7,
     "metadata": {},
     "output_type": "execute_result"
    }
   ],
   "source": [
    "Prediction.astype('int64')"
   ]
  },
  {
   "cell_type": "code",
   "execution_count": null,
   "id": "bbff7bb5-e383-4b31-9443-27f86d2a0fd6",
   "metadata": {},
   "outputs": [],
   "source": []
  }
 ],
 "metadata": {
  "kernelspec": {
   "display_name": "Python 3 (ipykernel)",
   "language": "python",
   "name": "python3"
  },
  "language_info": {
   "codemirror_mode": {
    "name": "ipython",
    "version": 3
   },
   "file_extension": ".py",
   "mimetype": "text/x-python",
   "name": "python",
   "nbconvert_exporter": "python",
   "pygments_lexer": "ipython3",
   "version": "3.12.4"
  }
 },
 "nbformat": 4,
 "nbformat_minor": 5
}
