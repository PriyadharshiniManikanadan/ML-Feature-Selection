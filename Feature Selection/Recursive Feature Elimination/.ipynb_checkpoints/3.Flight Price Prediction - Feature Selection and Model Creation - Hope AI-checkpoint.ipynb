{
 "cells": [
  {
   "cell_type": "code",
   "execution_count": 1,
   "id": "4914df66",
   "metadata": {},
   "outputs": [],
   "source": [
    "import pandas as pd\n",
    "from sklearn.model_selection import train_test_split \n",
    "import time\n",
    "import numpy as np\n",
    "from sklearn.preprocessing import StandardScaler\n",
    "from sklearn.feature_selection import SelectKBest\n",
    "from sklearn.feature_selection import chi2\n",
    "from sklearn.feature_selection import RFE\n",
    "from sklearn.linear_model import LogisticRegression\n",
    "import pickle\n",
    "import matplotlib.pyplot as plt"
   ]
  },
  {
   "cell_type": "code",
   "execution_count": 11,
   "id": "6466a3b3",
   "metadata": {},
   "outputs": [
    {
     "name": "stdout",
     "output_type": "stream",
     "text": [
      "   duration  days_left  price  airline  source_city  departure_time  stops  \\\n",
      "0      2.17          1   5953        4            0               3      0   \n",
      "1      2.33          1   5953        4            0               0      0   \n",
      "2      2.17          1   5956        1            0               0      0   \n",
      "3      2.25          1   5955        5            0               1      0   \n",
      "4      2.33          1   5955        5            0               1      0   \n",
      "\n",
      "   arrival_time  destination_city  class  \n",
      "0             4                 5      0  \n",
      "1             1                 5      0  \n",
      "2             0                 5      0  \n",
      "3             2                 5      0  \n",
      "4             1                 5      0  \n"
     ]
    }
   ],
   "source": [
    "# Read the preprocessed CSV file\n",
    "dataset = pd.read_csv('flightprice.csv')\n",
    "\n",
    "# Inspect the DataFrame\n",
    "print(dataset.head())"
   ]
  },
  {
   "cell_type": "code",
   "execution_count": 12,
   "id": "7dc60537",
   "metadata": {},
   "outputs": [
    {
     "data": {
      "text/plain": [
       "Index(['duration', 'days_left', 'price', 'airline', 'source_city',\n",
       "       'departure_time', 'stops', 'arrival_time', 'destination_city', 'class'],\n",
       "      dtype='object')"
      ]
     },
     "execution_count": 12,
     "metadata": {},
     "output_type": "execute_result"
    }
   ],
   "source": [
    "dataset.columns"
   ]
  },
  {
   "cell_type": "code",
   "execution_count": 13,
   "id": "8ed93a86",
   "metadata": {},
   "outputs": [],
   "source": [
    "indep_X=dataset[['duration', 'days_left', 'airline', 'source_city',\n",
    "       'departure_time', 'stops', 'arrival_time', 'destination_city', 'class']]"
   ]
  },
  {
   "cell_type": "code",
   "execution_count": 14,
   "id": "e6b007fa",
   "metadata": {},
   "outputs": [],
   "source": [
    "dep_Y=dataset[['price']]"
   ]
  },
  {
   "cell_type": "markdown",
   "id": "ff322140",
   "metadata": {},
   "source": [
    "# Feature Selection"
   ]
  },
  {
   "cell_type": "markdown",
   "id": "0f91b2ef",
   "metadata": {},
   "source": [
    "# Recursive Feature Elimination"
   ]
  },
  {
   "cell_type": "code",
   "execution_count": 2,
   "id": "5a87c6cc",
   "metadata": {},
   "outputs": [],
   "source": [
    "def split_scalar(indep_X,dep_Y):\n",
    "        X_train, X_test, y_train, y_test = train_test_split(indep_X, dep_Y, test_size = 0.25, random_state = 0)\n",
    "\n",
    "        sc = StandardScaler()\n",
    "        X_train = sc.fit_transform(X_train)\n",
    "        X_test = sc.transform(X_test)    \n",
    "        return X_train, X_test, y_train, y_test"
   ]
  },
  {
   "cell_type": "code",
   "execution_count": 3,
   "id": "d2414194",
   "metadata": {},
   "outputs": [],
   "source": [
    "def r2_prediction(regressor,X_test,y_test):\n",
    "    y_pred = regressor.predict(X_test)\n",
    "    from sklearn.metrics import r2_score\n",
    "    r2=r2_score(y_test,y_pred)\n",
    "    return r2"
   ]
  },
  {
   "cell_type": "code",
   "execution_count": 4,
   "id": "660d4d9b",
   "metadata": {},
   "outputs": [],
   "source": [
    "def Linear(X_train,y_train,X_test):       \n",
    "        from sklearn.linear_model import LinearRegression\n",
    "        regressor = LinearRegression()\n",
    "        regressor.fit(X_train, y_train)\n",
    "        r2=r2_prediction(regressor,X_test,y_test)\n",
    "        return  r2 "
   ]
  },
  {
   "cell_type": "code",
   "execution_count": 5,
   "id": "ea7e2856",
   "metadata": {},
   "outputs": [],
   "source": [
    "def Decision(X_train,y_train,X_test):\n",
    "        from sklearn.tree import DecisionTreeRegressor\n",
    "        regressor = DecisionTreeRegressor(random_state = 0)\n",
    "        regressor.fit(X_train, y_train)\n",
    "        r2=r2_prediction(regressor,X_test,y_test)\n",
    "        return  r2 "
   ]
  },
  {
   "cell_type": "code",
   "execution_count": 6,
   "id": "d3a97b05",
   "metadata": {},
   "outputs": [],
   "source": [
    "def random(X_train,y_train,X_test):       \n",
    "        from sklearn.ensemble import RandomForestRegressor\n",
    "        regressor = RandomForestRegressor(n_estimators = 10, random_state = 0)\n",
    "        regressor.fit(X_train, y_train)\n",
    "        r2=r2_prediction(regressor,X_test,y_test)\n",
    "        return  r2"
   ]
  },
  {
   "cell_type": "code",
   "execution_count": 7,
   "id": "1878fa1f",
   "metadata": {},
   "outputs": [],
   "source": [
    "def xgboost(X_train,y_train,X_test):       \n",
    "        from xgboost import XGBRegressor\n",
    "        regressor = XGBRegressor(n_jobs=5,learning_rate=0.1,max_depth=10,random_state=1)\n",
    "        regressor.fit(X_train, y_train)\n",
    "        r2=r2_prediction(regressor,X_test,y_test)\n",
    "        return r2"
   ]
  },
  {
   "cell_type": "code",
   "execution_count": 15,
   "id": "b195c9f8",
   "metadata": {},
   "outputs": [
    {
     "name": "stderr",
     "output_type": "stream",
     "text": [
      "C:\\Users\\Rajesh\\Anaconda3\\envs\\krishAI\\lib\\site-packages\\sklearn\\feature_selection\\_rfe.py:283: DataConversionWarning: A column-vector y was passed when a 1d array was expected. Please change the shape of y to (n_samples,), for example using ravel().\n",
      "  estimator.fit(X[:, features], y, **fit_params)\n",
      "C:\\Users\\Rajesh\\Anaconda3\\envs\\krishAI\\lib\\site-packages\\sklearn\\feature_selection\\_rfe.py:283: DataConversionWarning: A column-vector y was passed when a 1d array was expected. Please change the shape of y to (n_samples,), for example using ravel().\n",
      "  estimator.fit(X[:, features], y, **fit_params)\n",
      "C:\\Users\\Rajesh\\Anaconda3\\envs\\krishAI\\lib\\site-packages\\sklearn\\feature_selection\\_rfe.py:283: DataConversionWarning: A column-vector y was passed when a 1d array was expected. Please change the shape of y to (n_samples,), for example using ravel().\n",
      "  estimator.fit(X[:, features], y, **fit_params)\n",
      "C:\\Users\\Rajesh\\Anaconda3\\envs\\krishAI\\lib\\site-packages\\sklearn\\feature_selection\\_rfe.py:283: DataConversionWarning: A column-vector y was passed when a 1d array was expected. Please change the shape of y to (n_samples,), for example using ravel().\n",
      "  estimator.fit(X[:, features], y, **fit_params)\n",
      "C:\\Users\\Rajesh\\Anaconda3\\envs\\krishAI\\lib\\site-packages\\sklearn\\feature_selection\\_rfe.py:310: DataConversionWarning: A column-vector y was passed when a 1d array was expected. Please change the shape of y to (n_samples,), for example using ravel().\n",
      "  self.estimator_.fit(X[:, features], y, **fit_params)\n",
      "C:\\Users\\Rajesh\\Anaconda3\\envs\\krishAI\\lib\\site-packages\\ipykernel_launcher.py:34: DataConversionWarning: A column-vector y was passed when a 1d array was expected. Please change the shape of y to (n_samples,), for example using ravel().\n"
     ]
    },
    {
     "name": "stdout",
     "output_type": "stream",
     "text": [
      "Model: Linear\n",
      "Selected Columns: ['airline', 'source_city', 'stops', 'destination_city', 'class']\n",
      "R2 Value: 0.9014411925799668\n",
      "\n",
      "Model: Decision\n",
      "Selected Columns: ['duration', 'days_left', 'airline', 'source_city', 'class']\n",
      "R2 Value: 0.9434892102116892\n",
      "\n",
      "Model: Random\n",
      "Selected Columns: ['duration', 'days_left', 'airline', 'source_city', 'class']\n",
      "R2 Value: 0.9575298504156051\n",
      "\n",
      "Model: XGBoost\n",
      "Selected Columns: ['duration', 'airline', 'source_city', 'stops', 'class']\n",
      "R2 Value: 0.9590624618748581\n",
      "\n"
     ]
    }
   ],
   "source": [
    "def rfeFeature(indep_X, dep_Y, n):\n",
    "    rfelist = []\n",
    "    colnames_list = []  \n",
    "    # List to store column names for each model\n",
    "    r2_values = []  \n",
    "    # List to store R2 values for each model\n",
    "\n",
    "    from sklearn.linear_model import LinearRegression\n",
    "    lin = LinearRegression()\n",
    "\n",
    "    from sklearn.tree import DecisionTreeRegressor\n",
    "    dec = DecisionTreeRegressor(random_state=0)\n",
    "\n",
    "    from sklearn.ensemble import RandomForestRegressor\n",
    "    rf = RandomForestRegressor(n_estimators=10, random_state=0)\n",
    "\n",
    "    from xgboost import XGBRegressor\n",
    "    xgb = XGBRegressor(n_jobs=5, learning_rate=0.1, max_depth=10, random_state=1)\n",
    "\n",
    "    rfemodellist = [lin, dec, rf, xgb]\n",
    "\n",
    "    for model in rfemodellist:\n",
    "        log_rfe = RFE(estimator=model, n_features_to_select=n)\n",
    "        log_fit = log_rfe.fit(indep_X, dep_Y)\n",
    "        log_rfe_feature = log_fit.transform(indep_X)\n",
    "        rfelist.append(log_rfe_feature)\n",
    "\n",
    "        # Get the column names selected by RFE\n",
    "        selected_columns = [col for col, selected in zip(indep_X.columns, log_rfe.support_) if selected]\n",
    "        colnames_list.append(selected_columns)\n",
    "\n",
    "        # Fit the model and calculate and store the R2 value\n",
    "        X_train, X_test, y_train, y_test = split_scalar(pd.DataFrame(log_rfe_feature), dep_Y)\n",
    "        model.fit(X_train, y_train)  # Fit the model\n",
    "        r2 = r2_prediction(model, X_test, y_test)\n",
    "        r2_values.append(r2)\n",
    "\n",
    "    return rfelist, colnames_list, r2_values\n",
    "\n",
    "# Call the function with your data\n",
    "rfelist, colnames_list, r2_values = rfeFeature(indep_X, dep_Y, 5)\n",
    "\n",
    "# Print the selected column names and R2 values for each model\n",
    "for model_name, selected_columns, r2_value in zip([\"Linear\", \"Decision\", \"Random\", \"XGBoost\"], colnames_list, r2_values):\n",
    "    print(f\"Model: {model_name}\")\n",
    "    print(\"Selected Columns:\", selected_columns)\n",
    "    print(f\"R2 Value: {r2_value}\\n\")"
   ]
  },
  {
   "cell_type": "markdown",
   "id": "64dfcece",
   "metadata": {},
   "source": [
    "# Model Creation"
   ]
  },
  {
   "cell_type": "code",
   "execution_count": 16,
   "id": "578065ce",
   "metadata": {},
   "outputs": [],
   "source": [
    "from sklearn.model_selection import train_test_split\n",
    "x_train,x_test,y_train,y_test=train_test_split(indep_X, dep_Y, test_size=0.30, random_state=0)\n",
    "from sklearn.tree import DecisionTreeRegressor\n",
    "regressor_dt=DecisionTreeRegressor(criterion='squared_error', splitter='random')\n",
    "regressor_dt=regressor_dt.fit(x_train,y_train)"
   ]
  },
  {
   "cell_type": "code",
   "execution_count": 17,
   "id": "d2c262f2",
   "metadata": {},
   "outputs": [],
   "source": [
    "y_pred=regressor_dt.predict(x_test)"
   ]
  },
  {
   "cell_type": "code",
   "execution_count": 18,
   "id": "f291baf3",
   "metadata": {},
   "outputs": [],
   "source": [
    "from sklearn.metrics import r2_score\n",
    "r_score=r2_score(y_test,y_pred)"
   ]
  },
  {
   "cell_type": "code",
   "execution_count": 19,
   "id": "e272b114",
   "metadata": {},
   "outputs": [
    {
     "data": {
      "text/plain": [
       "0.9726866831886678"
      ]
     },
     "execution_count": 19,
     "metadata": {},
     "output_type": "execute_result"
    }
   ],
   "source": [
    "r_score"
   ]
  },
  {
   "cell_type": "code",
   "execution_count": 20,
   "id": "74d5e054",
   "metadata": {},
   "outputs": [
    {
     "name": "stderr",
     "output_type": "stream",
     "text": [
      "C:\\Users\\Rajesh\\Anaconda3\\envs\\krishAI\\lib\\site-packages\\sklearn\\ensemble\\_gb.py:494: DataConversionWarning: A column-vector y was passed when a 1d array was expected. Please change the shape of y to (n_samples, ), for example using ravel().\n",
      "  y = column_or_1d(y, warn=True)\n"
     ]
    },
    {
     "data": {
      "text/plain": [
       "GradientBoostingRegressor(learning_rate=0.01, max_depth=4, min_samples_split=5,\n",
       "                          n_estimators=500)"
      ]
     },
     "execution_count": 20,
     "metadata": {},
     "output_type": "execute_result"
    }
   ],
   "source": [
    "from sklearn.ensemble import GradientBoostingRegressor\n",
    "regressor_gbr = GradientBoostingRegressor(n_estimators=500,max_depth=4,min_samples_split=5,learning_rate=0.01,loss=\"squared_error\")\n",
    "regressor_gbr.fit(x_train, y_train)"
   ]
  },
  {
   "cell_type": "code",
   "execution_count": 21,
   "id": "59745ea3",
   "metadata": {},
   "outputs": [],
   "source": [
    "y_pred=regressor_gbr.predict(x_test)"
   ]
  },
  {
   "cell_type": "code",
   "execution_count": 22,
   "id": "e94036e4",
   "metadata": {},
   "outputs": [
    {
     "data": {
      "text/plain": [
       "0.9541339069207602"
      ]
     },
     "execution_count": 22,
     "metadata": {},
     "output_type": "execute_result"
    }
   ],
   "source": [
    "from sklearn.metrics import r2_score\n",
    "r_score=r2_score(y_test,y_pred)\n",
    "r_score"
   ]
  },
  {
   "cell_type": "code",
   "execution_count": 23,
   "id": "d4e2408b",
   "metadata": {},
   "outputs": [
    {
     "name": "stderr",
     "output_type": "stream",
     "text": [
      "C:\\Users\\Rajesh\\Anaconda3\\envs\\krishAI\\lib\\site-packages\\ipykernel_launcher.py:3: DataConversionWarning: A column-vector y was passed when a 1d array was expected. Please change the shape of y to (n_samples,), for example using ravel().\n",
      "  This is separate from the ipykernel package so we can avoid doing imports until\n"
     ]
    },
    {
     "data": {
      "text/plain": [
       "RandomForestRegressor(random_state=0)"
      ]
     },
     "execution_count": 23,
     "metadata": {},
     "output_type": "execute_result"
    }
   ],
   "source": [
    "from sklearn.ensemble import RandomForestRegressor\n",
    "regressor_rf = RandomForestRegressor(n_estimators=100,random_state=0)\n",
    "regressor_rf.fit(x_train, y_train)"
   ]
  },
  {
   "cell_type": "code",
   "execution_count": 24,
   "id": "1acef17f",
   "metadata": {},
   "outputs": [],
   "source": [
    "y_pred=regressor_rf.predict(x_test)"
   ]
  },
  {
   "cell_type": "code",
   "execution_count": 25,
   "id": "d54283f8",
   "metadata": {},
   "outputs": [
    {
     "data": {
      "text/plain": [
       "0.9541339069207602"
      ]
     },
     "execution_count": 25,
     "metadata": {},
     "output_type": "execute_result"
    }
   ],
   "source": [
    "r_score"
   ]
  },
  {
   "cell_type": "code",
   "execution_count": 26,
   "id": "cda724c9",
   "metadata": {},
   "outputs": [],
   "source": [
    "# When comparing, Decision Tree algorithm gives maximum accuracy of 97%"
   ]
  },
  {
   "cell_type": "code",
   "execution_count": 27,
   "id": "22c65a5f",
   "metadata": {},
   "outputs": [],
   "source": [
    "import pickle\n",
    "Finalised_Model=\"Finalized_model.sav\""
   ]
  },
  {
   "cell_type": "code",
   "execution_count": 28,
   "id": "c3a6acd3",
   "metadata": {},
   "outputs": [],
   "source": [
    "pickle.dump(regressor_dt,open(Finalised_Model,'wb'))"
   ]
  },
  {
   "cell_type": "code",
   "execution_count": null,
   "id": "7d07223e",
   "metadata": {},
   "outputs": [],
   "source": []
  },
  {
   "cell_type": "code",
   "execution_count": null,
   "id": "3781307e",
   "metadata": {},
   "outputs": [],
   "source": []
  }
 ],
 "metadata": {
  "kernelspec": {
   "display_name": "Python 3 (ipykernel)",
   "language": "python",
   "name": "python3"
  },
  "language_info": {
   "codemirror_mode": {
    "name": "ipython",
    "version": 3
   },
   "file_extension": ".py",
   "mimetype": "text/x-python",
   "name": "python",
   "nbconvert_exporter": "python",
   "pygments_lexer": "ipython3",
   "version": "3.7.6"
  }
 },
 "nbformat": 4,
 "nbformat_minor": 5
}
