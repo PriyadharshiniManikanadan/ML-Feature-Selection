{
 "cells": [
  {
   "cell_type": "markdown",
   "id": "99510d2b-6313-42da-9eb3-cdcdc7aa08df",
   "metadata": {},
   "source": [
    "### SelectK-Classification-Deployment"
   ]
  },
  {
   "cell_type": "code",
   "execution_count": 1,
   "id": "adf3e0e2-0ded-46fd-94b9-bbffe11fd459",
   "metadata": {},
   "outputs": [],
   "source": [
    "import pickle"
   ]
  },
  {
   "cell_type": "code",
   "execution_count": 2,
   "id": "95c18f16-d3b0-4620-a465-c7779490493f",
   "metadata": {},
   "outputs": [],
   "source": [
    "sc = pickle.load(open('sc.pkl','rb'))"
   ]
  },
  {
   "cell_type": "code",
   "execution_count": 5,
   "id": "b0a090ef-afb7-49f6-9ebd-30587496c9a9",
   "metadata": {},
   "outputs": [
    {
     "data": {
      "text/plain": [
       "array([[ 0.91842938, -0.01533156, -0.82516364, -0.25895875,  0.79130636,\n",
       "         1.61244852, -0.59094013]])"
      ]
     },
     "execution_count": 5,
     "metadata": {},
     "output_type": "execute_result"
    }
   ],
   "source": [
    "User_input = sc.transform(([[2.0, 148.11, 17, 1.7, 14.6, 52, 6900]]))\n",
    "User_input"
   ]
  },
  {
   "cell_type": "code",
   "execution_count": 6,
   "id": "9d4a77a2-52fa-49f7-bd2f-9fb3ee86687c",
   "metadata": {},
   "outputs": [],
   "source": [
    "loaded_model = pickle.load(open('Finalized_Random_Model.sav','rb'))\n",
    "Prediction = loaded_model.predict(User_input)"
   ]
  },
  {
   "cell_type": "code",
   "execution_count": 7,
   "id": "c19e74b5-a5f5-43e2-8fad-7d4a0b4b55e9",
   "metadata": {},
   "outputs": [
    {
     "data": {
      "text/plain": [
       "array([1])"
      ]
     },
     "execution_count": 7,
     "metadata": {},
     "output_type": "execute_result"
    }
   ],
   "source": [
    "Prediction"
   ]
  },
  {
   "cell_type": "code",
   "execution_count": null,
   "id": "2e56fd32-dd7c-4349-ae1f-702f9c08879b",
   "metadata": {},
   "outputs": [],
   "source": []
  }
 ],
 "metadata": {
  "kernelspec": {
   "display_name": "Python 3 (ipykernel)",
   "language": "python",
   "name": "python3"
  },
  "language_info": {
   "codemirror_mode": {
    "name": "ipython",
    "version": 3
   },
   "file_extension": ".py",
   "mimetype": "text/x-python",
   "name": "python",
   "nbconvert_exporter": "python",
   "pygments_lexer": "ipython3",
   "version": "3.12.4"
  }
 },
 "nbformat": 4,
 "nbformat_minor": 5
}
