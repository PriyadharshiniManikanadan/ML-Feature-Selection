{
 "cells": [
  {
   "cell_type": "markdown",
   "id": "45fb60a0-7bdc-4595-8b81-ac5bd62417f9",
   "metadata": {},
   "source": [
    "## SelectK _Regression - Best Model"
   ]
  },
  {
   "cell_type": "code",
   "execution_count": 1,
   "id": "0e781c13-5213-4594-80c2-113caf89184f",
   "metadata": {},
   "outputs": [],
   "source": [
    "import pandas as pd\n",
    "import numpy as np\n",
    "from sklearn.model_selection import train_test_split \n",
    "from sklearn.preprocessing import StandardScaler\n",
    "from sklearn.feature_selection import SelectKBest\n",
    "from sklearn.feature_selection import chi2\n",
    "from sklearn.metrics import r2_score\n",
    "from sklearn.linear_model import LinearRegression\n",
    "from sklearn.tree import DecisionTreeRegressor\n",
    "import pickle\n",
    "import matplotlib.pyplot as plt"
   ]
  },
  {
   "cell_type": "code",
   "execution_count": 2,
   "id": "8b7a346c-944d-48bd-a572-8197a5ac5950",
   "metadata": {},
   "outputs": [],
   "source": [
    "def selectkbest(indep_x,dep_y,n):\n",
    "    SK = SelectKBest(score_func = chi2, k=n)\n",
    "    SKfit = SK.fit(indep_x,dep_y)\n",
    "    selectedk_features = SK.transform(indep_x)\n",
    "    selected_indices = SK.get_support(indices=True)\n",
    "    selected_features_names = indep_x.columns[selected_indices]\n",
    "    return selectedk_features, selected_features_names.tolist()"
   ]
  },
  {
   "cell_type": "code",
   "execution_count": 3,
   "id": "836ad479-d89d-44bf-b752-6b5890c791eb",
   "metadata": {},
   "outputs": [],
   "source": [
    "def split_scaler(indep_x,dep_y):\n",
    "    x_train,x_test,y_train,y_test = train_test_split(indep_x,dep_y,test_size = 0.2,random_state = 0)\n",
    "    sc = StandardScaler()\n",
    "    x_train = sc.fit_transform(x_train)\n",
    "    x_test = sc.transform(x_test)\n",
    "    return x_train,x_test,y_train,y_test,sc\n",
    "\n",
    "def R2_prediction(regressor,x_test,y_test):\n",
    "    y_pred = regressor.predict(x_test)\n",
    "\n",
    "    R2_score = r2_score(y_test,y_pred)\n",
    "    return regressor,R2_score\n",
    "\n",
    "def decision(x_train,y_train,x_test,y_test):\n",
    "    regressor = DecisionTreeRegressor(random_state=0)\n",
    "    regressor.fit(x_train,y_train)\n",
    "    return R2_prediction(regressor,x_test,y_test)  "
   ]
  },
  {
   "cell_type": "code",
   "execution_count": 4,
   "id": "42230b56-6270-4f02-8d01-ab5a584cdab7",
   "metadata": {},
   "outputs": [],
   "source": [
    "def selectK_regression(r2dc):\n",
    "    SKdataframe = pd.DataFrame(index = ['Chisquare'], columns = ['Decision'])\n",
    "    SKdataframe['Decision'] = r2dc\n",
    "    return SKdataframe"
   ]
  },
  {
   "cell_type": "code",
   "execution_count": 5,
   "id": "42b77c67-3fdd-4b75-8809-5c8dc594b0bf",
   "metadata": {
    "scrolled": true
   },
   "outputs": [
    {
     "data": {
      "text/html": [
       "<div>\n",
       "<style scoped>\n",
       "    .dataframe tbody tr th:only-of-type {\n",
       "        vertical-align: middle;\n",
       "    }\n",
       "\n",
       "    .dataframe tbody tr th {\n",
       "        vertical-align: top;\n",
       "    }\n",
       "\n",
       "    .dataframe thead th {\n",
       "        text-align: right;\n",
       "    }\n",
       "</style>\n",
       "<table border=\"1\" class=\"dataframe\">\n",
       "  <thead>\n",
       "    <tr style=\"text-align: right;\">\n",
       "      <th></th>\n",
       "      <th>age</th>\n",
       "      <th>bp</th>\n",
       "      <th>sg</th>\n",
       "      <th>al</th>\n",
       "      <th>su</th>\n",
       "      <th>rbc</th>\n",
       "      <th>pc</th>\n",
       "      <th>pcc</th>\n",
       "      <th>ba</th>\n",
       "      <th>bgr</th>\n",
       "      <th>...</th>\n",
       "      <th>pcv</th>\n",
       "      <th>wc</th>\n",
       "      <th>rc</th>\n",
       "      <th>htn</th>\n",
       "      <th>dm</th>\n",
       "      <th>cad</th>\n",
       "      <th>appet</th>\n",
       "      <th>pe</th>\n",
       "      <th>ane</th>\n",
       "      <th>classification</th>\n",
       "    </tr>\n",
       "  </thead>\n",
       "  <tbody>\n",
       "    <tr>\n",
       "      <th>0</th>\n",
       "      <td>2.000000</td>\n",
       "      <td>76.459948</td>\n",
       "      <td>c</td>\n",
       "      <td>3.0</td>\n",
       "      <td>0.0</td>\n",
       "      <td>normal</td>\n",
       "      <td>abnormal</td>\n",
       "      <td>notpresent</td>\n",
       "      <td>notpresent</td>\n",
       "      <td>148.112676</td>\n",
       "      <td>...</td>\n",
       "      <td>38.868902</td>\n",
       "      <td>8408.191126</td>\n",
       "      <td>4.705597</td>\n",
       "      <td>no</td>\n",
       "      <td>no</td>\n",
       "      <td>no</td>\n",
       "      <td>yes</td>\n",
       "      <td>yes</td>\n",
       "      <td>no</td>\n",
       "      <td>yes</td>\n",
       "    </tr>\n",
       "    <tr>\n",
       "      <th>1</th>\n",
       "      <td>3.000000</td>\n",
       "      <td>76.459948</td>\n",
       "      <td>c</td>\n",
       "      <td>2.0</td>\n",
       "      <td>0.0</td>\n",
       "      <td>normal</td>\n",
       "      <td>normal</td>\n",
       "      <td>notpresent</td>\n",
       "      <td>notpresent</td>\n",
       "      <td>148.112676</td>\n",
       "      <td>...</td>\n",
       "      <td>34.000000</td>\n",
       "      <td>12300.000000</td>\n",
       "      <td>4.705597</td>\n",
       "      <td>no</td>\n",
       "      <td>no</td>\n",
       "      <td>no</td>\n",
       "      <td>yes</td>\n",
       "      <td>poor</td>\n",
       "      <td>no</td>\n",
       "      <td>yes</td>\n",
       "    </tr>\n",
       "    <tr>\n",
       "      <th>2</th>\n",
       "      <td>4.000000</td>\n",
       "      <td>76.459948</td>\n",
       "      <td>a</td>\n",
       "      <td>1.0</td>\n",
       "      <td>0.0</td>\n",
       "      <td>normal</td>\n",
       "      <td>normal</td>\n",
       "      <td>notpresent</td>\n",
       "      <td>notpresent</td>\n",
       "      <td>99.000000</td>\n",
       "      <td>...</td>\n",
       "      <td>34.000000</td>\n",
       "      <td>8408.191126</td>\n",
       "      <td>4.705597</td>\n",
       "      <td>no</td>\n",
       "      <td>no</td>\n",
       "      <td>no</td>\n",
       "      <td>yes</td>\n",
       "      <td>poor</td>\n",
       "      <td>no</td>\n",
       "      <td>yes</td>\n",
       "    </tr>\n",
       "    <tr>\n",
       "      <th>3</th>\n",
       "      <td>5.000000</td>\n",
       "      <td>76.459948</td>\n",
       "      <td>d</td>\n",
       "      <td>1.0</td>\n",
       "      <td>0.0</td>\n",
       "      <td>normal</td>\n",
       "      <td>normal</td>\n",
       "      <td>notpresent</td>\n",
       "      <td>notpresent</td>\n",
       "      <td>148.112676</td>\n",
       "      <td>...</td>\n",
       "      <td>38.868902</td>\n",
       "      <td>8408.191126</td>\n",
       "      <td>4.705597</td>\n",
       "      <td>no</td>\n",
       "      <td>no</td>\n",
       "      <td>no</td>\n",
       "      <td>yes</td>\n",
       "      <td>poor</td>\n",
       "      <td>yes</td>\n",
       "      <td>yes</td>\n",
       "    </tr>\n",
       "    <tr>\n",
       "      <th>4</th>\n",
       "      <td>5.000000</td>\n",
       "      <td>50.000000</td>\n",
       "      <td>c</td>\n",
       "      <td>0.0</td>\n",
       "      <td>0.0</td>\n",
       "      <td>normal</td>\n",
       "      <td>normal</td>\n",
       "      <td>notpresent</td>\n",
       "      <td>notpresent</td>\n",
       "      <td>148.112676</td>\n",
       "      <td>...</td>\n",
       "      <td>36.000000</td>\n",
       "      <td>12400.000000</td>\n",
       "      <td>4.705597</td>\n",
       "      <td>no</td>\n",
       "      <td>no</td>\n",
       "      <td>no</td>\n",
       "      <td>yes</td>\n",
       "      <td>poor</td>\n",
       "      <td>no</td>\n",
       "      <td>yes</td>\n",
       "    </tr>\n",
       "    <tr>\n",
       "      <th>...</th>\n",
       "      <td>...</td>\n",
       "      <td>...</td>\n",
       "      <td>...</td>\n",
       "      <td>...</td>\n",
       "      <td>...</td>\n",
       "      <td>...</td>\n",
       "      <td>...</td>\n",
       "      <td>...</td>\n",
       "      <td>...</td>\n",
       "      <td>...</td>\n",
       "      <td>...</td>\n",
       "      <td>...</td>\n",
       "      <td>...</td>\n",
       "      <td>...</td>\n",
       "      <td>...</td>\n",
       "      <td>...</td>\n",
       "      <td>...</td>\n",
       "      <td>...</td>\n",
       "      <td>...</td>\n",
       "      <td>...</td>\n",
       "      <td>...</td>\n",
       "    </tr>\n",
       "    <tr>\n",
       "      <th>394</th>\n",
       "      <td>51.492308</td>\n",
       "      <td>70.000000</td>\n",
       "      <td>a</td>\n",
       "      <td>0.0</td>\n",
       "      <td>0.0</td>\n",
       "      <td>normal</td>\n",
       "      <td>normal</td>\n",
       "      <td>notpresent</td>\n",
       "      <td>notpresent</td>\n",
       "      <td>219.000000</td>\n",
       "      <td>...</td>\n",
       "      <td>37.000000</td>\n",
       "      <td>9800.000000</td>\n",
       "      <td>4.400000</td>\n",
       "      <td>no</td>\n",
       "      <td>no</td>\n",
       "      <td>no</td>\n",
       "      <td>yes</td>\n",
       "      <td>poor</td>\n",
       "      <td>no</td>\n",
       "      <td>yes</td>\n",
       "    </tr>\n",
       "    <tr>\n",
       "      <th>395</th>\n",
       "      <td>51.492308</td>\n",
       "      <td>70.000000</td>\n",
       "      <td>c</td>\n",
       "      <td>0.0</td>\n",
       "      <td>2.0</td>\n",
       "      <td>normal</td>\n",
       "      <td>normal</td>\n",
       "      <td>notpresent</td>\n",
       "      <td>notpresent</td>\n",
       "      <td>220.000000</td>\n",
       "      <td>...</td>\n",
       "      <td>27.000000</td>\n",
       "      <td>8408.191126</td>\n",
       "      <td>4.705597</td>\n",
       "      <td>yes</td>\n",
       "      <td>yes</td>\n",
       "      <td>no</td>\n",
       "      <td>yes</td>\n",
       "      <td>poor</td>\n",
       "      <td>yes</td>\n",
       "      <td>yes</td>\n",
       "    </tr>\n",
       "    <tr>\n",
       "      <th>396</th>\n",
       "      <td>51.492308</td>\n",
       "      <td>70.000000</td>\n",
       "      <td>c</td>\n",
       "      <td>3.0</td>\n",
       "      <td>0.0</td>\n",
       "      <td>normal</td>\n",
       "      <td>normal</td>\n",
       "      <td>notpresent</td>\n",
       "      <td>notpresent</td>\n",
       "      <td>110.000000</td>\n",
       "      <td>...</td>\n",
       "      <td>26.000000</td>\n",
       "      <td>9200.000000</td>\n",
       "      <td>3.400000</td>\n",
       "      <td>yes</td>\n",
       "      <td>yes</td>\n",
       "      <td>no</td>\n",
       "      <td>poor</td>\n",
       "      <td>poor</td>\n",
       "      <td>no</td>\n",
       "      <td>yes</td>\n",
       "    </tr>\n",
       "    <tr>\n",
       "      <th>397</th>\n",
       "      <td>51.492308</td>\n",
       "      <td>90.000000</td>\n",
       "      <td>a</td>\n",
       "      <td>0.0</td>\n",
       "      <td>0.0</td>\n",
       "      <td>normal</td>\n",
       "      <td>normal</td>\n",
       "      <td>notpresent</td>\n",
       "      <td>notpresent</td>\n",
       "      <td>207.000000</td>\n",
       "      <td>...</td>\n",
       "      <td>38.868902</td>\n",
       "      <td>8408.191126</td>\n",
       "      <td>4.705597</td>\n",
       "      <td>yes</td>\n",
       "      <td>yes</td>\n",
       "      <td>no</td>\n",
       "      <td>yes</td>\n",
       "      <td>poor</td>\n",
       "      <td>yes</td>\n",
       "      <td>yes</td>\n",
       "    </tr>\n",
       "    <tr>\n",
       "      <th>398</th>\n",
       "      <td>51.492308</td>\n",
       "      <td>80.000000</td>\n",
       "      <td>a</td>\n",
       "      <td>0.0</td>\n",
       "      <td>0.0</td>\n",
       "      <td>normal</td>\n",
       "      <td>normal</td>\n",
       "      <td>notpresent</td>\n",
       "      <td>notpresent</td>\n",
       "      <td>100.000000</td>\n",
       "      <td>...</td>\n",
       "      <td>53.000000</td>\n",
       "      <td>8500.000000</td>\n",
       "      <td>4.900000</td>\n",
       "      <td>no</td>\n",
       "      <td>no</td>\n",
       "      <td>no</td>\n",
       "      <td>yes</td>\n",
       "      <td>poor</td>\n",
       "      <td>no</td>\n",
       "      <td>no</td>\n",
       "    </tr>\n",
       "  </tbody>\n",
       "</table>\n",
       "<p>399 rows × 25 columns</p>\n",
       "</div>"
      ],
      "text/plain": [
       "           age         bp sg   al   su     rbc        pc         pcc  \\\n",
       "0     2.000000  76.459948  c  3.0  0.0  normal  abnormal  notpresent   \n",
       "1     3.000000  76.459948  c  2.0  0.0  normal    normal  notpresent   \n",
       "2     4.000000  76.459948  a  1.0  0.0  normal    normal  notpresent   \n",
       "3     5.000000  76.459948  d  1.0  0.0  normal    normal  notpresent   \n",
       "4     5.000000  50.000000  c  0.0  0.0  normal    normal  notpresent   \n",
       "..         ...        ... ..  ...  ...     ...       ...         ...   \n",
       "394  51.492308  70.000000  a  0.0  0.0  normal    normal  notpresent   \n",
       "395  51.492308  70.000000  c  0.0  2.0  normal    normal  notpresent   \n",
       "396  51.492308  70.000000  c  3.0  0.0  normal    normal  notpresent   \n",
       "397  51.492308  90.000000  a  0.0  0.0  normal    normal  notpresent   \n",
       "398  51.492308  80.000000  a  0.0  0.0  normal    normal  notpresent   \n",
       "\n",
       "             ba         bgr  ...        pcv            wc        rc  htn   dm  \\\n",
       "0    notpresent  148.112676  ...  38.868902   8408.191126  4.705597   no   no   \n",
       "1    notpresent  148.112676  ...  34.000000  12300.000000  4.705597   no   no   \n",
       "2    notpresent   99.000000  ...  34.000000   8408.191126  4.705597   no   no   \n",
       "3    notpresent  148.112676  ...  38.868902   8408.191126  4.705597   no   no   \n",
       "4    notpresent  148.112676  ...  36.000000  12400.000000  4.705597   no   no   \n",
       "..          ...         ...  ...        ...           ...       ...  ...  ...   \n",
       "394  notpresent  219.000000  ...  37.000000   9800.000000  4.400000   no   no   \n",
       "395  notpresent  220.000000  ...  27.000000   8408.191126  4.705597  yes  yes   \n",
       "396  notpresent  110.000000  ...  26.000000   9200.000000  3.400000  yes  yes   \n",
       "397  notpresent  207.000000  ...  38.868902   8408.191126  4.705597  yes  yes   \n",
       "398  notpresent  100.000000  ...  53.000000   8500.000000  4.900000   no   no   \n",
       "\n",
       "     cad  appet    pe  ane classification  \n",
       "0     no    yes   yes   no            yes  \n",
       "1     no    yes  poor   no            yes  \n",
       "2     no    yes  poor   no            yes  \n",
       "3     no    yes  poor  yes            yes  \n",
       "4     no    yes  poor   no            yes  \n",
       "..   ...    ...   ...  ...            ...  \n",
       "394   no    yes  poor   no            yes  \n",
       "395   no    yes  poor  yes            yes  \n",
       "396   no   poor  poor   no            yes  \n",
       "397   no    yes  poor  yes            yes  \n",
       "398   no    yes  poor   no             no  \n",
       "\n",
       "[399 rows x 25 columns]"
      ]
     },
     "execution_count": 5,
     "metadata": {},
     "output_type": "execute_result"
    }
   ],
   "source": [
    "dataset = pd.read_csv(\"CKD.csv\",index_col=None)\n",
    "dataset"
   ]
  },
  {
   "cell_type": "code",
   "execution_count": 6,
   "id": "edcdd4c5-b261-419b-8abd-351576c0cf1d",
   "metadata": {},
   "outputs": [],
   "source": [
    "df = dataset"
   ]
  },
  {
   "cell_type": "code",
   "execution_count": 7,
   "id": "59d07d20-01e5-40c9-9ef2-2b57941a79dd",
   "metadata": {},
   "outputs": [],
   "source": [
    "df = pd.get_dummies(df,dtype=int,drop_first=True)"
   ]
  },
  {
   "cell_type": "code",
   "execution_count": 8,
   "id": "501e1d27-acac-4376-9401-ef5a025ec25d",
   "metadata": {},
   "outputs": [],
   "source": [
    "indep_x = df.drop('classification_yes',axis=1)\n",
    "dep_y = df['classification_yes']"
   ]
  },
  {
   "cell_type": "code",
   "execution_count": 9,
   "id": "d89abb68-c60c-4330-81ba-09abc985edc6",
   "metadata": {},
   "outputs": [],
   "source": [
    "kbest, selected_feature_names = selectkbest(indep_x,dep_y,8)\n",
    "\n",
    "r2dc = []"
   ]
  },
  {
   "cell_type": "code",
   "execution_count": 10,
   "id": "bb68aaaf-c961-41a4-aec2-c2a9d1371698",
   "metadata": {},
   "outputs": [
    {
     "data": {
      "text/plain": [
       "array([[2.00000000e+00, 3.00000000e+00, 1.48112676e+02, ...,\n",
       "        1.25181556e+01, 3.88689024e+01, 8.40819113e+03],\n",
       "       [3.00000000e+00, 2.00000000e+00, 1.48112676e+02, ...,\n",
       "        1.07000000e+01, 3.40000000e+01, 1.23000000e+04],\n",
       "       [4.00000000e+00, 1.00000000e+00, 9.90000000e+01, ...,\n",
       "        1.20000000e+01, 3.40000000e+01, 8.40819113e+03],\n",
       "       ...,\n",
       "       [5.14923077e+01, 3.00000000e+00, 1.10000000e+02, ...,\n",
       "        9.10000000e+00, 2.60000000e+01, 9.20000000e+03],\n",
       "       [5.14923077e+01, 0.00000000e+00, 2.07000000e+02, ...,\n",
       "        8.50000000e+00, 3.88689024e+01, 8.40819113e+03],\n",
       "       [5.14923077e+01, 0.00000000e+00, 1.00000000e+02, ...,\n",
       "        1.63000000e+01, 5.30000000e+01, 8.50000000e+03]])"
      ]
     },
     "execution_count": 10,
     "metadata": {},
     "output_type": "execute_result"
    }
   ],
   "source": [
    "kbest"
   ]
  },
  {
   "cell_type": "code",
   "execution_count": 11,
   "id": "86f83116-421b-44e2-b846-e6a02141e230",
   "metadata": {},
   "outputs": [
    {
     "data": {
      "text/plain": [
       "['age', 'al', 'bgr', 'bu', 'sc', 'hrmo', 'pcv', 'wc']"
      ]
     },
     "execution_count": 11,
     "metadata": {},
     "output_type": "execute_result"
    }
   ],
   "source": [
    "selected_feature_names"
   ]
  },
  {
   "cell_type": "code",
   "execution_count": 12,
   "id": "10d9541c-3d1c-40ec-af2b-4dc0f158d803",
   "metadata": {},
   "outputs": [],
   "source": [
    "x_train,x_test,y_train,y_test,sc = split_scaler(kbest,dep_y)"
   ]
  },
  {
   "cell_type": "code",
   "execution_count": 13,
   "id": "5f50766f-4eee-45b8-8649-bd6a0053d177",
   "metadata": {},
   "outputs": [],
   "source": [
    "regressor,R2_score = decision(x_train,y_train,x_test,y_test)\n",
    "r2dc.append(R2_score)"
   ]
  },
  {
   "cell_type": "code",
   "execution_count": 14,
   "id": "03c0ee85-d2a4-429a-b6bc-182c15fcf6df",
   "metadata": {},
   "outputs": [
    {
     "data": {
      "text/plain": [
       "[0.8958333333333334]"
      ]
     },
     "execution_count": 14,
     "metadata": {},
     "output_type": "execute_result"
    }
   ],
   "source": [
    "r2dc"
   ]
  },
  {
   "cell_type": "code",
   "execution_count": 15,
   "id": "4aa44e22-3a27-4506-b134-354a11474e4f",
   "metadata": {},
   "outputs": [],
   "source": [
    "result = selectK_regression(r2dc)"
   ]
  },
  {
   "cell_type": "code",
   "execution_count": 16,
   "id": "8b78bfcc-081e-409c-bb19-534f46ae33cd",
   "metadata": {},
   "outputs": [
    {
     "data": {
      "text/html": [
       "<div>\n",
       "<style scoped>\n",
       "    .dataframe tbody tr th:only-of-type {\n",
       "        vertical-align: middle;\n",
       "    }\n",
       "\n",
       "    .dataframe tbody tr th {\n",
       "        vertical-align: top;\n",
       "    }\n",
       "\n",
       "    .dataframe thead th {\n",
       "        text-align: right;\n",
       "    }\n",
       "</style>\n",
       "<table border=\"1\" class=\"dataframe\">\n",
       "  <thead>\n",
       "    <tr style=\"text-align: right;\">\n",
       "      <th></th>\n",
       "      <th>Decision</th>\n",
       "    </tr>\n",
       "  </thead>\n",
       "  <tbody>\n",
       "    <tr>\n",
       "      <th>Chisquare</th>\n",
       "      <td>0.895833</td>\n",
       "    </tr>\n",
       "  </tbody>\n",
       "</table>\n",
       "</div>"
      ],
      "text/plain": [
       "           Decision\n",
       "Chisquare  0.895833"
      ]
     },
     "execution_count": 16,
     "metadata": {},
     "output_type": "execute_result"
    }
   ],
   "source": [
    "result"
   ]
  },
  {
   "cell_type": "code",
   "execution_count": 17,
   "id": "ca32b1f9-740a-4df4-b42b-7b3bb16e2448",
   "metadata": {},
   "outputs": [],
   "source": [
    "import pickle\n",
    "\n",
    "filename = 'Finalized_Decision_Model.sav'"
   ]
  },
  {
   "cell_type": "code",
   "execution_count": 18,
   "id": "ac537986-0cac-4a60-b63d-acd415832bef",
   "metadata": {},
   "outputs": [],
   "source": [
    "pickle.dump(regressor,open(filename, 'wb'))"
   ]
  },
  {
   "cell_type": "code",
   "execution_count": 19,
   "id": "4725eb25-6ecc-4f1d-8b14-592def7977fb",
   "metadata": {},
   "outputs": [],
   "source": [
    "filenamesc = 'sc.pkl'"
   ]
  },
  {
   "cell_type": "code",
   "execution_count": 20,
   "id": "03883bdb-3c10-438c-a74b-18e910730821",
   "metadata": {},
   "outputs": [],
   "source": [
    "sc = pickle.dump(sc,open(filenamesc,'wb'))"
   ]
  },
  {
   "cell_type": "code",
   "execution_count": 21,
   "id": "da46a435-73d0-4407-85c2-75c0ddcf1f1c",
   "metadata": {},
   "outputs": [],
   "source": [
    "sc = pickle.load(open('sc.pkl','rb'))"
   ]
  },
  {
   "cell_type": "code",
   "execution_count": 23,
   "id": "54469fe6-0e2d-4b8e-bad8-492ca483fc9c",
   "metadata": {},
   "outputs": [
    {
     "data": {
      "text/plain": [
       "array([[-1.24492348,  0.91842938, -0.01533156, -0.82516364, -0.25895875,\n",
       "         0.79130636,  1.61244852, -0.59094013]])"
      ]
     },
     "execution_count": 23,
     "metadata": {},
     "output_type": "execute_result"
    }
   ],
   "source": [
    "user_input = sc.transform([[32, 2.0, 148.11, 17, 1.7, 14.6, 52, 6900]])\n",
    "user_input"
   ]
  },
  {
   "cell_type": "code",
   "execution_count": 24,
   "id": "3b652802-5a1b-4c51-b406-19c9e137e90a",
   "metadata": {},
   "outputs": [],
   "source": [
    "loaded_model = pickle.load(open('Finalized_Decision_Model.sav','rb'))\n",
    "Prediction = loaded_model.predict(user_input)"
   ]
  },
  {
   "cell_type": "code",
   "execution_count": 28,
   "id": "c7763321-8831-42af-a083-eadcbdbb8286",
   "metadata": {},
   "outputs": [],
   "source": [
    "Prediction = Prediction.astype('int64')"
   ]
  },
  {
   "cell_type": "code",
   "execution_count": 29,
   "id": "939da4c4-b3bc-4140-8ac4-5ba798a7f346",
   "metadata": {},
   "outputs": [
    {
     "data": {
      "text/plain": [
       "array([1], dtype=int64)"
      ]
     },
     "execution_count": 29,
     "metadata": {},
     "output_type": "execute_result"
    }
   ],
   "source": [
    "Prediction"
   ]
  },
  {
   "cell_type": "code",
   "execution_count": null,
   "id": "e36507b9-869b-4ddd-b249-b3b85af9469f",
   "metadata": {},
   "outputs": [],
   "source": []
  }
 ],
 "metadata": {
  "kernelspec": {
   "display_name": "Python 3 (ipykernel)",
   "language": "python",
   "name": "python3"
  },
  "language_info": {
   "codemirror_mode": {
    "name": "ipython",
    "version": 3
   },
   "file_extension": ".py",
   "mimetype": "text/x-python",
   "name": "python",
   "nbconvert_exporter": "python",
   "pygments_lexer": "ipython3",
   "version": "3.12.4"
  }
 },
 "nbformat": 4,
 "nbformat_minor": 5
}
