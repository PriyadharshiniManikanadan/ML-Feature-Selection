{
 "cells": [
  {
   "cell_type": "markdown",
   "id": "3046d83e-0b01-47f5-98ad-908ba47b302a",
   "metadata": {},
   "source": [
    "## SelectK-Regression-Deployment"
   ]
  },
  {
   "cell_type": "code",
   "execution_count": 1,
   "id": "49b0778a-df3a-4d48-a463-cb890233ffef",
   "metadata": {},
   "outputs": [],
   "source": [
    "import pickle"
   ]
  },
  {
   "cell_type": "code",
   "execution_count": 2,
   "id": "658d1be4-9d67-43c2-8174-1bc52fac71ac",
   "metadata": {},
   "outputs": [],
   "source": [
    "sc = pickle.load(open('sc.pkl','rb'))"
   ]
  },
  {
   "cell_type": "code",
   "execution_count": 3,
   "id": "d4504af5-2c35-4cf4-b26f-83f37a92f75c",
   "metadata": {},
   "outputs": [
    {
     "data": {
      "text/plain": [
       "array([[-1.24492348,  0.91842938, -0.01533156, -0.82516364, -0.25895875,\n",
       "         0.79130636,  1.61244852, -0.59094013]])"
      ]
     },
     "execution_count": 3,
     "metadata": {},
     "output_type": "execute_result"
    }
   ],
   "source": [
    "user_input = sc.transform([[32, 2.0, 148.11, 17, 1.7, 14.6, 52, 6900]])\n",
    "user_input"
   ]
  },
  {
   "cell_type": "code",
   "execution_count": 4,
   "id": "82836156-6bf6-40c7-bea0-6b22d14e7250",
   "metadata": {},
   "outputs": [],
   "source": [
    "loaded_model = pickle.load(open('Finalized_Decision_Model.sav','rb'))\n",
    "Prediction = loaded_model.predict(user_input)"
   ]
  },
  {
   "cell_type": "code",
   "execution_count": 5,
   "id": "999e3ce2-2fab-435e-8596-b498f1e93395",
   "metadata": {},
   "outputs": [],
   "source": [
    "Prediction = Prediction.astype('int64')"
   ]
  },
  {
   "cell_type": "code",
   "execution_count": 6,
   "id": "6cd2cfac-bbdd-497f-b2ef-d1b38793ffeb",
   "metadata": {},
   "outputs": [
    {
     "data": {
      "text/plain": [
       "array([1], dtype=int64)"
      ]
     },
     "execution_count": 6,
     "metadata": {},
     "output_type": "execute_result"
    }
   ],
   "source": [
    "Prediction"
   ]
  },
  {
   "cell_type": "code",
   "execution_count": null,
   "id": "3603a508-0f62-4cd9-805c-786f3990fe7b",
   "metadata": {},
   "outputs": [],
   "source": []
  }
 ],
 "metadata": {
  "kernelspec": {
   "display_name": "Python 3 (ipykernel)",
   "language": "python",
   "name": "python3"
  },
  "language_info": {
   "codemirror_mode": {
    "name": "ipython",
    "version": 3
   },
   "file_extension": ".py",
   "mimetype": "text/x-python",
   "name": "python",
   "nbconvert_exporter": "python",
   "pygments_lexer": "ipython3",
   "version": "3.12.4"
  }
 },
 "nbformat": 4,
 "nbformat_minor": 5
}
